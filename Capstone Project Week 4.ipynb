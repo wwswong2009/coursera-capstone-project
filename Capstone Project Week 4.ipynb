{
    "cells": [
        {
            "cell_type": "markdown",
            "metadata": {
                "collapsed": true
            },
            "source": "# Capstone Project - The Battle of Neighborhoods (Week 1)\n\n# Project Title: Business Opportunity of Opening a Restaurant in San Francisco Bay Area"
        },
        {
            "cell_type": "markdown",
            "metadata": {},
            "source": "## 1. Introduction"
        },
        {
            "cell_type": "markdown",
            "metadata": {},
            "source": "### 1.1 Business Problem Statement"
        },
        {
            "cell_type": "markdown",
            "metadata": {},
            "source": "I currenly live in San Franciscio Bay Area of Califonia USA, which is commonly called Bay Area. According to the 2019 United States Census, the Bay Area has over 7.7 million of population. The Bay Area is considered one of the most populous metropolitan areas in California, with many giant IT companies like Google, Facebook, Apple headquartered in the region.\n\nThe Bay Area consists of 9 counties (Alameda, Contra Costa, Marin, Napa, San Francisco, San Mateo, Santa Clara, Solano, and Sonoma) and 101 cities. The exact city that I currently reside is Fremont of the Alameda county. As of the 2019 Census, the county had a population of over 1.6 million, making it the 7th-most populous county in California and 20th most populous nationally. The population of Alameda county has been growing over the last five years, primarily driven by a booming economy and import of skilled immigrants in the area. With these, the Alameda county is one of the attractive locations to start a restaurant business.\n\nThe objective of this project is to use data science knowledge acquired from this course and utilize appropriate data science tools to figure out where it would be a best place to open a restaurant in the Alameda county."
        },
        {
            "cell_type": "code",
            "execution_count": 15,
            "metadata": {},
            "outputs": [
                {
                    "data": {
                        "text/html": "<img src=\"https://commons.wikimedia.org/wiki/File:Bayarea_map.png\"/>",
                        "text/plain": "<IPython.core.display.Image object>"
                    },
                    "execution_count": 15,
                    "metadata": {},
                    "output_type": "execute_result"
                }
            ],
            "source": "# libraries for displaying images\nfrom IPython.display import Image \nfrom IPython.core.display import HTML \nImage(url='https://commons.wikimedia.org/wiki/File:Bayarea_map.png')"
        },
        {
            "cell_type": "markdown",
            "metadata": {},
            "source": "### 1.2 Target Audience"
        },
        {
            "cell_type": "markdown",
            "metadata": {},
            "source": "The target audience of this project report would include the following:\n1. Entrepreneurs who desire to open a new restaurant. This report would present them a detailed analysis of all cities in Alameda county and which cities would be best location to start up a new restaurant business.\n2. Local residents who like to explore the Alameda county and discover what kind of restaurants are in the area.  This report would give them a summary of all kinds of restaurants from different cities in the Alameda county."
        },
        {
            "cell_type": "markdown",
            "metadata": {},
            "source": "## 2. Data Preparation"
        },
        {
            "cell_type": "markdown",
            "metadata": {},
            "source": "In order to solve the problem, we will need a number of data to help with the data analysis. Altogther, the following sets of data will be used to support our analysis."
        },
        {
            "cell_type": "code",
            "execution_count": 16,
            "metadata": {},
            "outputs": [
                {
                    "data": {
                        "text/html": "<a href='https://en.wikipedia.org/wiki/List_of_cities_and_towns_in_the_San_Francisco_Bay_Area' target='_blank'>1. List of cities and towns in the San Francisco Bay Area</a>",
                        "text/plain": "<IPython.core.display.HTML object>"
                    },
                    "metadata": {},
                    "output_type": "display_data"
                }
            ],
            "source": "display(HTML(\"<a href='https://en.wikipedia.org/wiki/List_of_cities_and_towns_in_the_San_Francisco_Bay_Area' target='_blank'>1. List of cities and towns in the San Francisco Bay Area</a>\"))"
        },
        {
            "cell_type": "markdown",
            "metadata": {},
            "source": "- This will help us by providing a list of every city in San Francisco Bay Area which then allow us to filter every city from the Alameda county."
        },
        {
            "cell_type": "code",
            "execution_count": 10,
            "metadata": {},
            "outputs": [
                {
                    "data": {
                        "text/html": "<a href='https://data.acgov.org/datasets/76da968f7ef049a086c020191b58a83b_0/data' target='_blank'>2. Crime Report of all cities in Alameda from 2012 to present</a>",
                        "text/plain": "<IPython.core.display.HTML object>"
                    },
                    "metadata": {},
                    "output_type": "display_data"
                }
            ],
            "source": "display(HTML(\"<a href='https://data.acgov.org/datasets/76da968f7ef049a086c020191b58a83b_0/data' target='_blank'>2. Crime Report of all cities in Alameda from 2012 to present</a>\"))"
        },
        {
            "cell_type": "markdown",
            "metadata": {},
            "source": "- This contains all crime incidents occured in the Alameda cities from 2012 to present, and therefore helps us understand what cities would be the safest to open a restaurent."
        },
        {
            "cell_type": "code",
            "execution_count": 11,
            "metadata": {},
            "outputs": [
                {
                    "data": {
                        "text/html": "<a href='https://developer.foursquare.com/' target='_blank'>3. Foursquare API</a>",
                        "text/plain": "<IPython.core.display.HTML object>"
                    },
                    "metadata": {},
                    "output_type": "display_data"
                }
            ],
            "source": "display(HTML(\"<a href='https://developer.foursquare.com/' target='_blank'>3. Foursquare API</a>\"))"
        },
        {
            "cell_type": "markdown",
            "metadata": {},
            "source": "- Foursquare data is robust tool and provides location data for all location-based applications. Foursquare API allows us to retrieve information about the most popular venues in each city of the Alameda county. This will be helpful by providing us a good indication of customer traffic for particular venue types."
        },
        {
            "cell_type": "code",
            "execution_count": 13,
            "metadata": {},
            "outputs": [
                {
                    "data": {
                        "text/html": "<a href='http://www.google.com' target='_blank'>www.google.com</a>",
                        "text/plain": "<IPython.core.display.HTML object>"
                    },
                    "metadata": {},
                    "output_type": "display_data"
                }
            ],
            "source": "display(HTML(\"<a href='http://www.google.com' target='_blank'>www.google.com</a>\"))"
        },
        {
            "cell_type": "markdown",
            "metadata": {},
            "source": "- Google search will be used whereever needed throughout our data analysis to cross-check and refine any data if necessary."
        },
        {
            "cell_type": "markdown",
            "metadata": {},
            "source": "Here I have descibed the business problem and data preparation sections of The Battle of Neighborhoods capstone project for Week 1."
        },
        {
            "cell_type": "code",
            "execution_count": null,
            "metadata": {},
            "outputs": [],
            "source": ""
        }
    ],
    "metadata": {
        "kernelspec": {
            "display_name": "Python 3.6",
            "language": "python",
            "name": "python3"
        },
        "language_info": {
            "codemirror_mode": {
                "name": "ipython",
                "version": 3
            },
            "file_extension": ".py",
            "mimetype": "text/x-python",
            "name": "python",
            "nbconvert_exporter": "python",
            "pygments_lexer": "ipython3",
            "version": "3.6.9"
        }
    },
    "nbformat": 4,
    "nbformat_minor": 1
}